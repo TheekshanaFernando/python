{
 "cells": [
  {
   "cell_type": "markdown",
   "metadata": {},
   "source": [
    "# Basics\n",
    "\n",
    "### Python Shell\n",
    "\n",
    "If you are using the python IDLE which is provided by the Official Python site. you will notice the python shell. Simply create a new python document and continue working on that. Those python document can be interpreted using the shell.\n",
    "\n",
    "### Python setting up PATH variables\n",
    "\n",
    "This feature is not essential but can be use to code in Command Prompt. You can include path variables on installation. In case you unable to include the feature manually by changing local environmental variables.[more info](https://docs.python.org/2/using/windows.html)\n",
    "\n",
    "### Commenting in python\n",
    "\n",
    "Simply commenting is including descriptions about the program inside the source in a way in which they do not interprete. Comments will be helpful for quick understanding about the source. As in other languages Python can comment single lines and multiples lines.\n",
    "\n",
    "1. Single line Comment\n",
    "\n",
    "```python\n",
    "    # This line is commented\n",
    "    # This line is commented\n",
    "    # This line is commented\n",
    "```\n",
    "1. Multiple lines Comment\n",
    "\n",
    "```python\n",
    "    '''\n",
    "        This area is commented\n",
    "        \n",
    "    '''\n",
    "    \"\"\"\n",
    "    \n",
    "        This area is commented\n",
    "     \n",
    "    \"\"\"\n",
    "```\n",
    "\n",
    "### Print function\n",
    "\n",
    "Python print function is useful when displaying source results or prompts in the runtime."
   ]
  },
  {
   "cell_type": "code",
   "execution_count": 2,
   "metadata": {},
   "outputs": [
    {
     "name": "stdout",
     "output_type": "stream",
     "text": [
      "Ann\n",
      "34\n",
      "Hello  Ann , are you  34  old.\n"
     ]
    }
   ],
   "source": [
    "name = \"Ann\"\n",
    "age = 34\n",
    "print(name)\n",
    "print(age)\n",
    "print(\"Hello \",name,\", are you \",age,\" old.\")"
   ]
  }
 ],
 "metadata": {
  "kernelspec": {
   "display_name": "Python 3",
   "language": "python",
   "name": "python3"
  },
  "language_info": {
   "codemirror_mode": {
    "name": "ipython",
    "version": 3
   },
   "file_extension": ".py",
   "mimetype": "text/x-python",
   "name": "python",
   "nbconvert_exporter": "python",
   "pygments_lexer": "ipython3",
   "version": "3.7.6"
  }
 },
 "nbformat": 4,
 "nbformat_minor": 4
}
