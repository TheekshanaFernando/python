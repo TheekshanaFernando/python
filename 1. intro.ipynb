{
 "cells": [
  {
   "cell_type": "markdown",
   "metadata": {},
   "source": [
    "# Introduction\n",
    "\n",
    "This tutorial will be brief introduction about python programming.  \n",
    "Jupiter Notebooks will use as the primary code editor can be downloaded from the follwing link(1),  \n",
    "\n",
    "links :   \n",
    "64-Bit version - [Download](https://repo.anaconda.com/archive/Anaconda3-2020.07-Windows-x86_64.exe )   \n",
    "32-Bit version - [Download](https://repo.anaconda.com/archive/Anaconda3-2020.07-Windows-x86.exe   )     \n",
    "\n",
    "Jupiter Notebooks comes along with the Anconda distribution( basically known as conda ) and can be use to interprete line by line rather than interpreting the whole source simultaneously.It will be helpful for beginners to understand the the language.  \n",
    "## Python varieties\n",
    "\n",
    "Every computer program is also a computer program. Therefore inorder to invent a new programming language creaters will have to options, they can either choose creating the language from scratch or bild on a super efficient language like C or C++. Originally Python was programmed using C and C++ so it's also known as CPython. The first version of CPython was created by Guido van Rossum and first released in 1991. At present there are different versions of python based on different programming languages to serve specific requirements. They are as follows,\n",
    "\n",
    "    1. Cython compiles Python to C and C++.\n",
    "    2. Google's Grumpy (latest release in 2017) compiles Python 2 to Go.\n",
    "    3. IronPython follows a similar approach in order to run Python programs on the .NET Common Language Runtime.\n",
    "    4. Jython enables the use of the Java class library from a Python program.\n",
    "    5. MyHDL compiles Python to VHDL.\n",
    "    6. Nuitka compiles Python into C++.\n",
    "    7. Numba uses LLVM to compile Python to machine code.\n",
    "    8. Pyjs (latest release in 2012) compiles Python to JavaScript.\n",
    "    9. Pyrex (latest release in 2010) and Shed Skin (latest release in 2013) compile to C and C++ respectively.\n",
    "    10.Pythran compiles Python to C++.\n",
    "    11.RPython can be compiled to C, and is used to build the PyPy interpreter of Python.\n",
    "\n",
    "---\n",
    "(1) - In case of download links are not working search for \"anaconda for python\", then you will find relevant web site and it's content. \n",
    "\n",
    "---\n",
    "Jupiter Notebooks can be updated by the author along with the language update, therefore feel free to browse content whenever needed through github® repisitories. Also follow me on Instagram™,Twitter®, Facebook™ and Youtube®.  \n",
    "\n",
    "link :  \n",
    "[Github](https://github.com/TheekshanaFernando  )  \n",
    "[Twitter](https://twitter.com/TheekshanaFern6 )    \n",
    "[Facebook](https://www.facebook.com/theekshana.fernando.969 )   \n",
    "[Youtube](youtube.com)    \n",
    "\n",
    "*These notebooks are only for learning purposes, Please do not use without the reference*"
   ]
  }
 ],
 "metadata": {
  "kernelspec": {
   "display_name": "Python 3",
   "language": "python",
   "name": "python3"
  },
  "language_info": {
   "codemirror_mode": {
    "name": "ipython",
    "version": 3
   },
   "file_extension": ".py",
   "mimetype": "text/x-python",
   "name": "python",
   "nbconvert_exporter": "python",
   "pygments_lexer": "ipython3",
   "version": "3.7.6"
  }
 },
 "nbformat": 4,
 "nbformat_minor": 4
}
