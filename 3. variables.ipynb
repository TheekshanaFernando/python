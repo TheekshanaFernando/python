{
 "cells": [
  {
   "cell_type": "markdown",
   "metadata": {},
   "source": [
    "# Python Variables\n",
    "\n",
    "As we alll know variables are essential in every programming language in order to store data for computations. Most of the high level programming languages use the similar syntaxes when dealing with variables. And some of the languages use their own methods in working with variables.    \n",
    "\n",
    "While languages like C, C++, C# and Java having similarities, other langauges such as Python, Golang and Perl use diiferent set of instructions. Furthermore languages ike Python and Perl known as loosly typed languages as they do not need classify the data type. It will recognize the data type in runtime ( while working ).  \n",
    "\n",
    "### Syntax:  \n",
    "\n",
    "Let's compare Java and Python to get an idea about the declaration of data.  \n",
    "\n",
    "```java\n",
    "    int x = 0; //java\n",
    "```\n",
    "```python\n",
    "    x = 0 # Python\n",
    "    ```\n",
    "\n",
    "### Declaring Variables\n",
    "\n",
    "In python there are set of rules creating or declaring variables. A variable will be valid only if you follow the follwing rules.  \n",
    "\n",
    "1. Variable cannot start with a number"
   ]
  },
  {
   "cell_type": "code",
   "execution_count": 2,
   "metadata": {},
   "outputs": [
    {
     "ename": "SyntaxError",
     "evalue": "invalid syntax (<ipython-input-2-e19173d62abc>, line 1)",
     "output_type": "error",
     "traceback": [
      "\u001b[1;36m  File \u001b[1;32m\"<ipython-input-2-e19173d62abc>\"\u001b[1;36m, line \u001b[1;32m1\u001b[0m\n\u001b[1;33m    3name = \"Ann\"\u001b[0m\n\u001b[1;37m        ^\u001b[0m\n\u001b[1;31mSyntaxError\u001b[0m\u001b[1;31m:\u001b[0m invalid syntax\n"
     ]
    }
   ],
   "source": [
    "3name = \"Ann\""
   ]
  },
  {
   "cell_type": "markdown",
   "metadata": {},
   "source": [
    "As above including a number infront of the variable name will generate an error."
   ]
  }
 ],
 "metadata": {
  "kernelspec": {
   "display_name": "Python 3",
   "language": "python",
   "name": "python3"
  },
  "language_info": {
   "codemirror_mode": {
    "name": "ipython",
    "version": 3
   },
   "file_extension": ".py",
   "mimetype": "text/x-python",
   "name": "python",
   "nbconvert_exporter": "python",
   "pygments_lexer": "ipython3",
   "version": "3.7.6"
  }
 },
 "nbformat": 4,
 "nbformat_minor": 4
}
